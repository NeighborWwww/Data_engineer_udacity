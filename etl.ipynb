{
 "cells": [
  {
   "cell_type": "markdown",
   "metadata": {},
   "source": [
    "# ETL Processes\n",
    "Use this notebook to develop the ETL process for each of your tables before completing the `etl.py` file to load the whole datasets."
   ]
  },
  {
   "cell_type": "code",
   "execution_count": 2,
   "metadata": {},
   "outputs": [],
   "source": [
    "import os\n",
    "import glob\n",
    "import psycopg2\n",
    "import pandas as pd\n",
    "from sql_queries import *"
   ]
  },
  {
   "cell_type": "code",
   "execution_count": 3,
   "metadata": {},
   "outputs": [],
   "source": [
    "conn = psycopg2.connect(\"host=127.0.0.1 dbname=sparkifydb user=student password=student\")\n",
    "cur = conn.cursor()"
   ]
  },
  {
   "cell_type": "code",
   "execution_count": 4,
   "metadata": {},
   "outputs": [],
   "source": [
    "def get_files(filepath):\n",
    "    all_files = []\n",
    "    for root, dirs, files in os.walk(filepath):\n",
    "        files = glob.glob(os.path.join(root,'*.json'))\n",
    "        for f in files :\n",
    "            all_files.append(os.path.abspath(f))\n",
    "    \n",
    "    return all_files"
   ]
  },
  {
   "cell_type": "markdown",
   "metadata": {},
   "source": [
    "# Process `song_data`\n",
    "In this first part, you'll perform ETL on the first dataset, `song_data`, to create the `songs` and `artists` dimensional tables.\n",
    "\n",
    "Let's perform ETL on a single song file and load a single record into each table to start.\n",
    "- Use the `get_files` function provided above to get a list of all song JSON files in `data/song_data`\n",
    "- Select the first song in this list\n",
    "- Read the song file and view the data"
   ]
  },
  {
   "cell_type": "code",
   "execution_count": 5,
   "metadata": {},
   "outputs": [],
   "source": [
    "song_files = get_files('data/song_data')"
   ]
  },
  {
   "cell_type": "code",
   "execution_count": 6,
   "metadata": {},
   "outputs": [
    {
     "name": "stdout",
     "output_type": "stream",
     "text": [
      "78\n"
     ]
    }
   ],
   "source": [
    "filepath = song_files[0]\n",
    "print(len(song_files))\n"
   ]
  },
  {
   "cell_type": "code",
   "execution_count": 7,
   "metadata": {},
   "outputs": [
    {
     "name": "stdout",
     "output_type": "stream",
     "text": [
      "   num_songs           artist_id  artist_latitude  artist_longitude  \\\n",
      "0          1  AREDL271187FB40F44              NaN               NaN   \n",
      "\n",
      "  artist_location   artist_name             song_id  \\\n",
      "0                  Soul Mekanik  SOPEGZN12AB0181B3D   \n",
      "\n",
      "                              title  duration  year  \n",
      "0  Get Your Head Stuck On Your Neck  45.66159     0  \n",
      "['Get Your Head Stuck On Your Neck', 45.66159, 1, 0, 'Soul Mekanik']\n"
     ]
    }
   ],
   "source": [
    "df = pd.read_json(filepath, lines = True)\n",
    "print(df.head())\n",
    "print([df.values[0][7], df.values[0][8], df.values[0][0], df.values[0][9], df.values[0][5]])\n",
    "#print(df.values)"
   ]
  },
  {
   "cell_type": "markdown",
   "metadata": {},
   "source": [
    "## #1: `songs` Table\n",
    "#### Extract Data for Songs Table\n",
    "- Select columns for song ID, title, artist ID, year, and duration\n",
    "- Use `df.values` to select just the values from the dataframe\n",
    "- Index to select the first (only) record in the dataframe\n",
    "- Convert the array to a list and set it to `song_data`"
   ]
  },
  {
   "cell_type": "code",
   "execution_count": 15,
   "metadata": {},
   "outputs": [
    {
     "name": "stdout",
     "output_type": "stream",
     "text": [
      "78\n"
     ]
    }
   ],
   "source": [
    "\n",
    "df = pd.DataFrame(columns = pd.read_json(song_files[0],lines = True).columns)\n",
    "for record in song_files:\n",
    "    data = pd.read_json(record,lines = True)\n",
    "    df = df.append(data)\n",
    "    \n",
    "#    song_data.append([df.values[0][7], df.values[0][8], df.values[0][0], df.values[0][9], df.values[0][5]])\n",
    "#    artist_data.append([df.values[0][0], df.values[0][4], df.values[0][2], df.values[0][1], df.values[0][3]])\n",
    "print(len(df))\n",
    "song_data = pd.DataFrame({'song_id':df['song_id'], 'title':df['title'], 'artist_id':df['artist_id'], 'year':df['year'], 'duration':df['duration']})\n",
    "artist_data = pd.DataFrame({'artist_id':df['artist_id'], 'name':df['artist_name'], 'location':df['artist_location'], 'latitude':df['artist_latitude'], 'longtitude':df['artist_longitude']})\n",
    "\n",
    "#print(len(song_data))\n",
    "#print(len(artist_data))"
   ]
  },
  {
   "cell_type": "markdown",
   "metadata": {},
   "source": [
    "#### Insert Record into Song Table\n",
    "Implement the `song_table_insert` query in `sql_queries.py` and run the cell below to insert a record for this song into the `songs` table. Remember to run `create_tables.py` before running the cell below to ensure you've created/resetted the `songs` table in the sparkify database."
   ]
  },
  {
   "cell_type": "code",
   "execution_count": 17,
   "metadata": {},
   "outputs": [
    {
     "name": "stdout",
     "output_type": "stream",
     "text": [
      "['SOPEGZN12AB0181B3D' 'Get Your Head Stuck On Your Neck'\n",
      " 'AREDL271187FB40F44' 0 45.66159]\n",
      "['SOTCKKY12AB018A141' 'Sonnerie lalaleulé hi houuu' 'ARGSAFR1269FB35070' 0\n",
      " 29.54404]\n",
      "['SOQOTLQ12AB01868D0' 'Clementina Santafè' 'ARGCY1Y1187B9A4FA5' 0\n",
      " 153.33832]\n",
      "['SOLEYHO12AB0188A85' 'Got My Mojo Workin' 'ARAGB2O1187FB3A161' 0\n",
      " 338.23302]\n",
      "['SOFFKZS12AB017F194' 'A Higher Place (Album Version)'\n",
      " 'ARBEBBY1187B9B43DB' 1994 236.17261]\n",
      "['SOOJPRH12A8C141995' 'Loaded Like A Gun' 'ARBGXIG122988F409D' 0 173.19138]\n",
      "['SOGVQGJ12AB017F169' 'Ten Tonne' 'AR62SOJ1187FB47BB5' 2005 337.68444]\n",
      "['SOXILUQ12A58A7C72A' 'Jenny Take a Ride' 'ARP6N5A1187B99D1A3' 2004\n",
      " 207.43791]\n",
      "['SOFNOQK12AB01840FC' 'Kutt Free (DJ Volume Remix)' 'ARNNKDK1187B98BBD5' 0\n",
      " 407.37914]\n",
      "['SOBCOSW12A8C13D398' 'Rumba De Barcelona' 'AR7SMBG1187B9B9066' 0\n",
      " 218.38322]\n",
      "['SOBAYLL12A8C138AF9' 'Sono andati? Fingevo di dormire'\n",
      " 'ARDR4AC1187FB371A1' 0 511.16363]\n",
      "['SOBKWDJ12A8C13B2F3' 'Wild Rose (Back 2 Basics Mix)' 'AR36F9J1187FB406F1'\n",
      " 0 230.71302]\n",
      "['SOFFKZS12AB017F194' 'A Higher Place (Album Version)'\n",
      " 'ARBEBBY1187B9B43DB' 1994 236.17261]\n",
      "['SOBKWDJ12A8C13B2F3' 'Wild Rose (Back 2 Basics Mix)' 'AR36F9J1187FB406F1'\n",
      " 0 230.71302]\n",
      "['SOOJPRH12A8C141995' 'Loaded Like A Gun' 'ARBGXIG122988F409D' 0 173.19138]\n",
      "['SOQOTLQ12AB01868D0' 'Clementina Santafè' 'ARGCY1Y1187B9A4FA5' 0\n",
      " 153.33832]\n",
      "['SONSKXP12A8C13A2C9' 'Native Soul' 'AR0IAWL1187B9A96D0' 2003 197.19791]\n",
      "['SOUPIRU12A6D4FA1E1' 'Der Kleine Dompfaff' 'ARJIE2Y1187B994AB7' 0\n",
      " 152.92036]\n",
      "['SOWQTQZ12A58A7B63E' 'Streets On Fire (Explicit Album Version)'\n",
      " 'ARPFHN61187FB575F6' 0 279.97995]\n",
      "['SOINLJW12A8C13314C' 'City Slickers' 'AR8IEZO1187B99055E' 2008 149.86404]\n",
      "['SONWXQJ12A8C134D94' 'The Ballad Of Sleeping Beauty' 'ARNF6401187FB57032'\n",
      " 1994 305.162]\n",
      "['SODREIN12A58A7F2E5' 'A Whiter Shade Of Pale (Live @ Fillmore West)'\n",
      " 'ARLTWXK1187FB5A3F8' 0 326.00771]\n",
      "['SOGDBUF12A8C140FAA' 'Intro' 'AR558FS1187FB45658' 2003 75.67628]\n",
      "['SODAUVL12A8C13D184' 'Prognosis' 'ARWB3G61187FB49404' 2000 363.85914]\n",
      "['SORRZGD12A6310DBC3' 'Harajuku Girls' 'ARVBRGZ1187FB4675A' 2004 290.55955]\n",
      "['SOSWKAV12AB018FC91' 'Midnight Star' 'ARULZCI1241B9C8611' 0 335.51628]\n",
      "['SOFCHDR12AB01866EF' 'Living Hell' 'AREVWGE1187B9B890A' 0 282.43546]\n",
      "['SOLYIBD12A8C135045' 'Music is what we love' 'AR051KA1187B98B2FF' 0\n",
      " 261.51138]\n",
      "['SODUJBS12A8C132150' 'Wessex Loses a Bride' 'ARI2JSK1187FB496EF' 0\n",
      " 111.62077]\n",
      "['SOSLAVG12A8C13397F' 'Den Pai Alo' 'AROGWRA122988FEE45' 0 243.82649]\n",
      "['SOAOIBZ12AB01815BE'\n",
      " 'I Hold Your Hand In Mine [Live At Royal Albert Hall]'\n",
      " 'ARPBNLO1187FB3D52F' 2000 43.36281]\n",
      "['SOMVWWT12A58A7AE05' 'Knocked Out Of The Park' 'ARQ9BO41187FB5CF1F' 0\n",
      " 183.17016]\n",
      "['SOQVMXR12A81C21483' 'Salt In NYC' 'ARKULSX1187FB45F84' 0 424.12363]\n",
      "['SOZHPGD12A8C1394FE' 'Baby Come To Me' 'AR9AWNF1187B9AB0B4' 0 236.93016]\n",
      "['SOBBXLX12A58A79DDA' 'Erica (2005 Digital Remaster)' 'AREDBBQ1187B98AFF5'\n",
      " 0 138.63138]\n",
      "['SOTUKVB12AB0181477' 'Blessed Assurance' 'AR7ZKHQ1187B98DD73' 1993\n",
      " 270.602]\n",
      "['SOQLGFP12A58A7800E' 'OAKtown' 'ARD7TVE1187B99BFB1' 0 259.44771]\n",
      "['SOTTDKS12AB018D69B' 'It Wont Be Christmas' 'ARMBR4Y1187B9990EB' 0\n",
      " 241.47546]\n",
      "['SOPVXLX12A8C1402D5' 'Larger Than Life' 'AR3JMC51187B9AE49D' 1999\n",
      " 236.25098]\n",
      "['SOQLGFP12A58A7800E' 'OAKtown' 'ARD7TVE1187B99BFB1' 0 259.44771]\n",
      "['SOXLBJT12A8C140925' 'Caught In A Dream' 'ARYKCQI1187FB3B18F' 2004\n",
      " 290.29832]\n",
      "['SOMUYGI12AB0188633' 'La Culpa' 'ARL7K851187B99ACD2' 0 226.35057]\n",
      "['SOHUOAP12A8AE488E9' 'Floating' 'ARD842G1187B997376' 1987 491.12771]\n",
      "['SOILPQQ12AB017E82A' 'Sohna Nee Sohna Data' 'AR1ZHYZ1187FB3C717' 0\n",
      " 599.24853]\n",
      "['SOBEBDG12A58A76D60' 'Kassie Jones' 'ARI3BMM1187FB4255E' 0 220.78649]\n",
      "['SOUQQEA12A8C134B1B' 'High Tide' 'ARIG6O41187B988BDD' 0 228.5971]\n",
      "['SORAMLE12AB017C8B0' 'Auguri Cha Cha' 'ARHHO3O1187B989413' 0 191.84281]\n",
      "['SOZVMJI12AB01808AF' 'Synthetic Dream' 'ARNPAGP1241B9C7FD4' 0 165.69424]\n",
      "['SOWTBJW12AC468AC6E' 'Broken-Down Merry-Go-Round' 'ARQGYP71187FB44566' 0\n",
      " 151.84934]\n",
      "['SOKEJEJ12A8C13E0D0' 'The Urgency (LP Version)' 'ARC43071187B990240' 0\n",
      " 245.21098]\n",
      "['SOBONFF12A6D4F84D8' 'Tonight Will Be Alright' 'ARIK43K1187B9AE54C' 1986\n",
      " 307.3824]\n",
      "['SOKEJEJ12A8C13E0D0' 'The Urgency (LP Version)' 'ARC43071187B990240' 0\n",
      " 245.21098]\n",
      "['SOGOSOV12AF72A285E' '¿Dónde va Chichi?' 'ARGUVEV1187B98BA17' 1997\n",
      " 313.12934]\n",
      "['SOOLYAZ12A6701F4A6' 'Laws Patrolling (Album Version)'\n",
      " 'AREBBGV1187FB523D2' 0 173.66159]\n",
      "['SOBZBAZ12A6D4F8742' 'Spanish Grease' 'AROUOZZ1187B9ABE51' 1997 168.25424]\n",
      "['SOYTPEP12AB0180E7B' 'Twist and Shout' 'ARAJPHH1187FB5566A' 1964\n",
      " 164.80608]\n",
      "['SOZCTXZ12AB0182364' 'Setanta matins' 'AR5KOSW1187FB35FF4' 0 269.58322]\n",
      "['SOGXHEG12AB018653E' 'It Makes No Difference Now' 'AR0RCMP1187FB3F427'\n",
      " 1992 133.32853]\n",
      "['SOBBUGU12A8C13E95D' 'Setting Fire to Sleeping Giants'\n",
      " 'ARMAC4T1187FB3FA4C' 2004 207.77751]\n",
      "['SONYPOM12A8C13B2D7'\n",
      " 'I Think My Wife Is Running Around On Me (Taco Hell)'\n",
      " 'ARDNS031187B9924F0' 2005 186.48771]\n",
      "['SOGNCJP12A58A80271' 'Do You Finally Need A Friend' 'ARB29H41187B98F0EF'\n",
      " 1972 342.56934]\n",
      "['SOPSWQW12A6D4F8781' 'Made Like This (Live)' 'ARGIWFO1187B9B55B7' 0\n",
      " 225.09669]\n",
      "['SOZQDIU12A58A7BCF6' 'Superconfidential' 'ARNTLGG11E2835DDB9' 0 338.31138]\n",
      "['SOBLGCN12AB0183212' 'James (Hold The Ladder Steady)'\n",
      " 'AR47JEX1187B995D81' 1985 124.86485]\n",
      "['SOVYKGO12AB0187199' 'Crazy Mixed Up World' 'ARH4Z031187B9A71F2' 1961\n",
      " 156.39465]\n",
      "['SOLLHMX12AB01846DC' 'The Emperor Falls' 'AR1Y2PT1187FB5B9CE' 0 484.62322]\n",
      "['SOMZWCG12A8C13C480' \"I Didn't Mean To\" 'ARD7TVE1187B99BFB1' 0 218.93179]\n",
      "['SOHKNRJ12A6701D1F8' 'Drop of Rain' 'AR10USD1187B99F3F1' 0 189.57016]\n",
      "['SOQHXMF12AB0182363' 'Young Boy Blues' 'ARGSJW91187B9B1D6B' 0 218.77506]\n",
      "['SONHOTT12A8C13493C' 'Something Girls' 'AR7G5I41187FB4CE6C' 1982\n",
      " 233.40363]\n",
      "['SOIAZJW12AB01853F1' 'Pink World' 'AR8ZCNI1187B9A069B' 1984 269.81832]\n",
      "['SOMJBYD12A6D4F8557' 'Keepin It Real (Skit)' 'ARD0S291187B9B7BF5' 0\n",
      " 114.78159]\n",
      "['SOCIWDW12A8C13D406' 'Soul Deep' 'ARMJAGH1187FB546F3' 1969 148.03546]\n",
      "['SOUDSGM12AC9618304' 'Insatiable (Instrumental Version)'\n",
      " 'ARNTLGG11E2835DDB9' 0 266.39628]\n",
      "['SOYMRWW12A6D4FAB14' 'The Moon And I (Ordinary Day Album Version)'\n",
      " 'ARKFYS91187B98E58F' 0 267.7024]\n",
      "['SOXVLOJ12AB0189215' 'Amor De Cabaret' 'ARKRRTF1187B9984DA' 0 177.47546]\n",
      "['SOFSOCN12A8C143F5D' 'Face the Ashes' 'ARXR32B1187FB57099' 2007 209.60608]\n",
      "['SOMZWCG12A8C13C480' \"I Didn't Mean To\" 'ARD7TVE1187B99BFB1' 0 218.93179]\n"
     ]
    }
   ],
   "source": [
    "\n",
    "for song in song_data.values:\n",
    "\n",
    "    cur.execute(song_table_insert, song)\n",
    "    conn.commit()\n"
   ]
  },
  {
   "cell_type": "markdown",
   "metadata": {},
   "source": [
    "Run `test.ipynb` to see if you've successfully added a record to this table."
   ]
  },
  {
   "cell_type": "markdown",
   "metadata": {},
   "source": [
    "## #2: `artists` Table\n",
    "#### Extract Data for Artists Table\n",
    "- Select columns for artist ID, name, location, latitude, and longitude\n",
    "- Use `df.values` to select just the values from the dataframe\n",
    "- Index to select the first (only) record in the dataframe\n",
    "- Convert the array to a list and set it to `artist_data`"
   ]
  },
  {
   "cell_type": "code",
   "execution_count": null,
   "metadata": {},
   "outputs": [],
   "source": []
  },
  {
   "cell_type": "markdown",
   "metadata": {},
   "source": [
    "#### Insert Record into Artist Table\n",
    "Implement the `artist_table_insert` query in `sql_queries.py` and run the cell below to insert a record for this song's artist into the `artists` table. Remember to run `create_tables.py` before running the cell below to ensure you've created/resetted the `artists` table in the sparkify database."
   ]
  },
  {
   "cell_type": "code",
   "execution_count": 9,
   "metadata": {},
   "outputs": [],
   "source": [
    "for artist in artist_data:\n",
    "    cur.execute(artist_table_insert, artist)\n",
    "    conn.commit()"
   ]
  },
  {
   "cell_type": "markdown",
   "metadata": {},
   "source": [
    "Run `test.ipynb` to see if you've successfully added a record to this table."
   ]
  },
  {
   "cell_type": "markdown",
   "metadata": {},
   "source": [
    "# Process `log_data`\n",
    "In this part, you'll perform ETL on the second dataset, `log_data`, to create the `time` and `users` dimensional tables, as well as the `songplays` fact table.\n",
    "\n",
    "Let's perform ETL on a single log file and load a single record into each table.\n",
    "- Use the `get_files` function provided above to get a list of all log JSON files in `data/log_data`\n",
    "- Select the first log file in this list\n",
    "- Read the log file and view the data"
   ]
  },
  {
   "cell_type": "code",
   "execution_count": 19,
   "metadata": {},
   "outputs": [],
   "source": [
    "log_files = get_files(\"data/log_data\")"
   ]
  },
  {
   "cell_type": "code",
   "execution_count": 20,
   "metadata": {},
   "outputs": [],
   "source": [
    "filepath = log_files[1]"
   ]
  },
  {
   "cell_type": "code",
   "execution_count": 12,
   "metadata": {},
   "outputs": [
    {
     "name": "stdout",
     "output_type": "stream",
     "text": [
      "0    2018-11-11 02:33:56.796\n",
      "1    2018-11-11 02:36:10.796\n",
      "2    2018-11-11 02:40:34.796\n",
      "4    2018-11-11 04:36:13.796\n",
      "5    2018-11-11 04:36:46.796\n",
      "6    2018-11-11 09:56:28.796\n",
      "7    2018-11-11 10:00:47.796\n",
      "8    2018-11-11 10:04:07.796\n",
      "9    2018-11-11 10:08:28.796\n",
      "10   2018-11-11 10:12:00.796\n",
      "12   2018-11-11 10:27:43.796\n",
      "13   2018-11-11 10:33:44.796\n",
      "14   2018-11-11 10:36:22.796\n",
      "15   2018-11-11 10:40:14.796\n",
      "16   2018-11-11 10:43:23.796\n",
      "17   2018-11-11 10:46:18.796\n",
      "23   2018-11-11 11:14:51.796\n",
      "25   2018-11-11 13:41:22.796\n",
      "27   2018-11-11 13:52:23.796\n",
      "28   2018-11-11 13:58:22.796\n",
      "30   2018-11-11 14:05:43.796\n",
      "31   2018-11-11 14:07:54.796\n",
      "32   2018-11-11 14:09:36.796\n",
      "33   2018-11-11 14:14:29.796\n",
      "35   2018-11-11 14:15:06.796\n",
      "36   2018-11-11 14:17:52.796\n",
      "37   2018-11-11 14:19:37.796\n",
      "38   2018-11-11 14:24:58.796\n",
      "39   2018-11-11 14:30:05.796\n",
      "40   2018-11-11 14:33:53.796\n",
      "               ...          \n",
      "57   2018-11-11 15:10:12.796\n",
      "58   2018-11-11 15:14:56.796\n",
      "59   2018-11-11 16:01:19.796\n",
      "60   2018-11-11 16:05:35.796\n",
      "61   2018-11-11 16:09:12.796\n",
      "62   2018-11-11 16:13:43.796\n",
      "65   2018-11-11 18:08:33.796\n",
      "67   2018-11-11 18:48:12.796\n",
      "69   2018-11-11 18:49:01.796\n",
      "70   2018-11-11 18:51:56.796\n",
      "71   2018-11-11 18:53:36.796\n",
      "72   2018-11-11 18:54:46.796\n",
      "76   2018-11-11 19:41:45.796\n",
      "77   2018-11-11 19:45:25.796\n",
      "78   2018-11-11 19:48:53.796\n",
      "80   2018-11-11 19:56:23.796\n",
      "81   2018-11-11 19:59:18.796\n",
      "82   2018-11-11 20:03:09.796\n",
      "83   2018-11-11 20:06:02.796\n",
      "84   2018-11-11 20:08:52.796\n",
      "85   2018-11-11 20:13:22.796\n",
      "86   2018-11-11 20:15:55.796\n",
      "87   2018-11-11 20:19:18.796\n",
      "88   2018-11-11 20:22:03.796\n",
      "89   2018-11-11 20:25:40.796\n",
      "90   2018-11-11 21:09:28.796\n",
      "91   2018-11-11 21:13:48.796\n",
      "92   2018-11-11 21:17:29.796\n",
      "93   2018-11-11 23:39:00.796\n",
      "94   2018-11-11 23:42:28.796\n",
      "Name: ts, Length: 73, dtype: datetime64[ns]\n",
      "73\n"
     ]
    }
   ],
   "source": [
    "df = pd.read_json(filepath, lines = True)\n",
    "\n",
    "df.head()\n",
    "dt = df[df['page'] == 'NextSong']\n",
    "#print(len(dt))\n",
    "dt.values\n",
    "t = dt['ts']\n",
    "#print(dt)\n",
    "date = pd.to_datetime(t, unit = 'ms')\n",
    "print(date)\n",
    "date_data = pd.DataFrame({'start_time':date.dt.time,'hour':date.dt.hour,'day':date.dt.day,'week':date.dt.week,'month':date.dt.month,'year':date.dt.year,'weekday':date.dt.weekday})\n",
    "print(len(date_data.values))\n",
    "#date\n",
    "#t.values\n",
    "#print(df.values)\n",
    "#dt = []\n",
    "#for i in range (len(log_files)):\n",
    "    \n",
    "    "
   ]
  },
  {
   "cell_type": "markdown",
   "metadata": {},
   "source": [
    "## #3: `time` Table\n",
    "#### Extract Data for Time Table\n",
    "- Filter records by `NextSong` action\n",
    "- Convert the `ts` timestamp column to datetime\n",
    "  - Hint: the current timestamp is in milliseconds\n",
    "- Extract the timestamp, hour, day, week of year, month, year, and weekday from the `ts` column and set `time_data` to a list containing these values in order\n",
    "  - Hint: use pandas' [`dt` attribute](https://pandas.pydata.org/pandas-docs/stable/reference/api/pandas.Series.dt.html) to access easily datetimelike properties.\n",
    "- Specify labels for these columns and set to `column_labels`\n",
    "- Create a dataframe, `time_df,` containing the time data for this file by combining `column_labels` and `time_data` into a dictionary and converting this into a dataframe"
   ]
  },
  {
   "cell_type": "code",
   "execution_count": 27,
   "metadata": {},
   "outputs": [
    {
     "name": "stdout",
     "output_type": "stream",
     "text": [
      "data entry: 8056, date_df: 6820, user_df: 8056\n",
      "[['53' 'Celeste' 'Williams' 'F' 'free']\n",
      " ['10' 'Sylvie' 'Cruz' 'F' 'free']\n",
      " ['53' 'Celeste' 'Williams' 'F' 'free']\n",
      " ...\n",
      " ['49' 'Chloe' 'Cuevas' 'F' 'free']\n",
      " ['6' 'Cecilia' 'Owens' 'F' 'free']\n",
      " ['6' 'Cecilia' 'Owens' 'F' 'free']]\n"
     ]
    }
   ],
   "source": [
    "df = pd.DataFrame(columns = pd.read_json(log_files[0],lines = True).columns)\n",
    "#date_df = pd.DataFrame(columns = ['start_time','hour','day','week','month','year','weekday'])\n",
    "s = 0\n",
    "for file in log_files:    \n",
    "    data = pd.read_json(file, lines = True)\n",
    "    s += len(data)\n",
    "    df = df.append(data)\n",
    "dt = df[df['page'] == 'NextSong']\n",
    "t = dt['ts']\n",
    "date = pd.to_datetime(t, unit = 'ms')\n",
    "date_df = pd.DataFrame({'start_time':date,'hour':date.dt.hour,'day':date.dt.day,'week':date.dt.week,'month':date.dt.month,'year':date.dt.year,'weekday':date.dt.weekday})\n",
    "user_df = pd.DataFrame({'user_id':df['userId'],'first_name':df['firstName'],'last_name':df['lastName'],'gender':df['gender'],'level':df['level']})\n",
    "\n",
    "print('data entry: {}, date_df: {}, user_df: {}'.format(s,len(date_df),len(user_df)))\n",
    "print(user_df.values)"
   ]
  },
  {
   "cell_type": "code",
   "execution_count": null,
   "metadata": {},
   "outputs": [],
   "source": []
  },
  {
   "cell_type": "code",
   "execution_count": null,
   "metadata": {},
   "outputs": [],
   "source": []
  },
  {
   "cell_type": "code",
   "execution_count": null,
   "metadata": {},
   "outputs": [],
   "source": []
  },
  {
   "cell_type": "markdown",
   "metadata": {},
   "source": [
    "#### Insert Records into Time Table\n",
    "Implement the `time_table_insert` query in `sql_queries.py` and run the cell below to insert records for the timestamps in this log file into the `time` table. Remember to run `create_tables.py` before running the cell below to ensure you've created/resetted the `time` table in the sparkify database."
   ]
  },
  {
   "cell_type": "code",
   "execution_count": 14,
   "metadata": {},
   "outputs": [],
   "source": [
    "for i, row in time_df.iterrows():\n",
    "    \n",
    "    cur.execute(time_table_insert, list(row))\n",
    "    conn.commit()"
   ]
  },
  {
   "cell_type": "markdown",
   "metadata": {},
   "source": [
    "Run `test.ipynb` to see if you've successfully added records to this table."
   ]
  },
  {
   "cell_type": "markdown",
   "metadata": {},
   "source": [
    "## #4: `users` Table\n",
    "#### Extract Data for Users Table\n",
    "- Select columns for user ID, first name, last name, gender and level and set to `user_df`"
   ]
  },
  {
   "cell_type": "code",
   "execution_count": null,
   "metadata": {},
   "outputs": [],
   "source": []
  },
  {
   "cell_type": "markdown",
   "metadata": {},
   "source": [
    "#### Insert Records into Users Table\n",
    "Implement the `user_table_insert` query in `sql_queries.py` and run the cell below to insert records for the users in this log file into the `users` table. Remember to run `create_tables.py` before running the cell below to ensure you've created/resetted the `users` table in the sparkify database."
   ]
  },
  {
   "cell_type": "code",
   "execution_count": 15,
   "metadata": {},
   "outputs": [],
   "source": [
    "for i, row in user_df.iterrows():\n",
    "    cur.execute(user_table_insert, row)\n",
    "    conn.commit()"
   ]
  },
  {
   "cell_type": "markdown",
   "metadata": {},
   "source": [
    "Run `test.ipynb` to see if you've successfully added records to this table."
   ]
  },
  {
   "cell_type": "markdown",
   "metadata": {},
   "source": [
    "## #5: `songplays` Table\n",
    "#### Extract Data and Songplays Table\n",
    "This one is a little more complicated since information from the songs table, artists table, and original log file are all needed for the `songplays` table. Since the log file does not specify an ID for either the song or the artist, you'll need to get the song ID and artist ID by querying the songs and artists tables to find matches based on song title, artist name, and song duration time.\n",
    "- Implement the `song_select` query in `sql_queries.py` to find the song ID and artist ID based on the title, artist name, and duration of a song.\n",
    "- Select the timestamp, user ID, level, song ID, artist ID, session ID, location, and user agent and set to `songplay_data`\n",
    "\n",
    "#### Insert Records into Songplays Table\n",
    "- Implement the `songplay_table_insert` query and run the cell below to insert records for the songplay actions in this log file into the `songplays` table. Remember to run `create_tables.py` before running the cell below to ensure you've created/resetted the `songplays` table in the sparkify database."
   ]
  },
  {
   "cell_type": "code",
   "execution_count": 1,
   "metadata": {},
   "outputs": [
    {
     "ename": "NameError",
     "evalue": "name 'df' is not defined",
     "output_type": "error",
     "traceback": [
      "\u001b[0;31m---------------------------------------------------------------------------\u001b[0m",
      "\u001b[0;31mNameError\u001b[0m                                 Traceback (most recent call last)",
      "\u001b[0;32m<ipython-input-1-876f68834577>\u001b[0m in \u001b[0;36m<module>\u001b[0;34m\u001b[0m\n\u001b[0;32m----> 1\u001b[0;31m \u001b[0;32mfor\u001b[0m \u001b[0mindex\u001b[0m\u001b[0;34m,\u001b[0m \u001b[0mrow\u001b[0m \u001b[0;32min\u001b[0m \u001b[0mdf\u001b[0m\u001b[0;34m.\u001b[0m\u001b[0miterrows\u001b[0m\u001b[0;34m(\u001b[0m\u001b[0;34m)\u001b[0m\u001b[0;34m:\u001b[0m\u001b[0;34m\u001b[0m\u001b[0;34m\u001b[0m\u001b[0m\n\u001b[0m\u001b[1;32m      2\u001b[0m     \u001b[0mprint\u001b[0m\u001b[0;34m(\u001b[0m\u001b[0;34m'{},{},{}'\u001b[0m\u001b[0;34m.\u001b[0m\u001b[0mformat\u001b[0m\u001b[0;34m(\u001b[0m\u001b[0mrow\u001b[0m\u001b[0;34m.\u001b[0m\u001b[0msong\u001b[0m\u001b[0;34m,\u001b[0m \u001b[0mrow\u001b[0m\u001b[0;34m.\u001b[0m\u001b[0martist\u001b[0m\u001b[0;34m,\u001b[0m \u001b[0mrow\u001b[0m\u001b[0;34m.\u001b[0m\u001b[0mlength\u001b[0m\u001b[0;34m)\u001b[0m\u001b[0;34m)\u001b[0m\u001b[0;34m\u001b[0m\u001b[0;34m\u001b[0m\u001b[0m\n\u001b[1;32m      3\u001b[0m     \u001b[0;31m# get songid and artistid from song and artist tables\u001b[0m\u001b[0;34m\u001b[0m\u001b[0;34m\u001b[0m\u001b[0;34m\u001b[0m\u001b[0m\n\u001b[1;32m      4\u001b[0m     \u001b[0mcur\u001b[0m\u001b[0;34m.\u001b[0m\u001b[0mexecute\u001b[0m\u001b[0;34m(\u001b[0m\u001b[0msong_select\u001b[0m\u001b[0;34m,\u001b[0m \u001b[0;34m(\u001b[0m\u001b[0mrow\u001b[0m\u001b[0;34m.\u001b[0m\u001b[0msong\u001b[0m\u001b[0;34m,\u001b[0m \u001b[0mrow\u001b[0m\u001b[0;34m.\u001b[0m\u001b[0martist\u001b[0m\u001b[0;34m,\u001b[0m \u001b[0mrow\u001b[0m\u001b[0;34m.\u001b[0m\u001b[0mlength\u001b[0m\u001b[0;34m)\u001b[0m\u001b[0;34m)\u001b[0m\u001b[0;34m\u001b[0m\u001b[0;34m\u001b[0m\u001b[0m\n\u001b[1;32m      5\u001b[0m     \u001b[0mresults\u001b[0m \u001b[0;34m=\u001b[0m \u001b[0mcur\u001b[0m\u001b[0;34m.\u001b[0m\u001b[0mfetchone\u001b[0m\u001b[0;34m(\u001b[0m\u001b[0;34m)\u001b[0m\u001b[0;34m\u001b[0m\u001b[0;34m\u001b[0m\u001b[0m\n",
      "\u001b[0;31mNameError\u001b[0m: name 'df' is not defined"
     ]
    }
   ],
   "source": [
    "for index, row in df.iterrows():\n",
    "    print('{},{},{}'.format(row.song, row.artist, row.length))\n",
    "    # get songid and artistid from song and artist tables\n",
    "    cur.execute(song_select, (row.song, row.artist, row.length))\n",
    "    results = cur.fetchone()\n",
    "    \n",
    "    if results:\n",
    "        songid, artistid = results\n",
    "    else:\n",
    "        songid, artistid = None, None\n",
    "\n",
    "    # insert songplay record\n",
    "    print(results)\n",
    "    print('{},{},{},{},{},{}'.format(pd.to_datetime(row.ts,unit = 'ms'), row.userId, row.level, songid, artistid, row.sessionId))\n",
    "    songplay_data = (pd.to_datetime(row.ts,unit = 'ms'), row.userId, row.level, songid, artistid, row.sessionId)\n",
    "    cur.execute(songplay_table_insert, songplay_data)\n",
    "    conn.commit()"
   ]
  },
  {
   "cell_type": "markdown",
   "metadata": {},
   "source": [
    "Run `test.ipynb` to see if you've successfully added records to this table."
   ]
  },
  {
   "cell_type": "markdown",
   "metadata": {},
   "source": [
    "# Close Connection to Sparkify Database"
   ]
  },
  {
   "cell_type": "code",
   "execution_count": 1,
   "metadata": {},
   "outputs": [
    {
     "ename": "NameError",
     "evalue": "name 'conn' is not defined",
     "output_type": "error",
     "traceback": [
      "\u001b[0;31m---------------------------------------------------------------------------\u001b[0m",
      "\u001b[0;31mNameError\u001b[0m                                 Traceback (most recent call last)",
      "\u001b[0;32m<ipython-input-1-8dd0cd799055>\u001b[0m in \u001b[0;36m<module>\u001b[0;34m\u001b[0m\n\u001b[0;32m----> 1\u001b[0;31m \u001b[0mconn\u001b[0m\u001b[0;34m.\u001b[0m\u001b[0mclose\u001b[0m\u001b[0;34m(\u001b[0m\u001b[0;34m)\u001b[0m\u001b[0;34m\u001b[0m\u001b[0;34m\u001b[0m\u001b[0m\n\u001b[0m",
      "\u001b[0;31mNameError\u001b[0m: name 'conn' is not defined"
     ]
    }
   ],
   "source": [
    "conn.close()"
   ]
  },
  {
   "cell_type": "markdown",
   "metadata": {},
   "source": [
    "# Implement `etl.py`\n",
    "Use what you've completed in this notebook to implement `etl.py`."
   ]
  },
  {
   "cell_type": "code",
   "execution_count": null,
   "metadata": {},
   "outputs": [],
   "source": []
  }
 ],
 "metadata": {
  "kernelspec": {
   "display_name": "Python 3",
   "language": "python",
   "name": "python3"
  },
  "language_info": {
   "codemirror_mode": {
    "name": "ipython",
    "version": 3
   },
   "file_extension": ".py",
   "mimetype": "text/x-python",
   "name": "python",
   "nbconvert_exporter": "python",
   "pygments_lexer": "ipython3",
   "version": "3.7.4"
  }
 },
 "nbformat": 4,
 "nbformat_minor": 4
}
